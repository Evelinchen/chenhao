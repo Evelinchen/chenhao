{
 "cells": [
  {
   "cell_type": "markdown",
   "metadata": {},
   "source": [
    "<font color=#0099ff size=6 face=\"黑体\">\n",
    "    <center>\n",
    "    假设和最小二乘\n",
    "    <center>\n",
    "</font>\n",
    "\n",
    "### 一、回归模型的假设\n",
    "    GM假设：\n",
    "    1、E(ε)=0；\n",
    "    2、Var(ε)=θ^2；\n",
    "    3、Cover(εi,εj)=0(i！=j)\n",
    "    怎么就突然冒出这个假设，这个假设是说如果模型满足这个假设，那最用二乘估计法得到的估计量就具有非常好的性质（1、是最小方差的2、并且这个估计量还是无偏的），满足这种条件，就不需要在去找其他估计量了，因为最小二乘估计就是最好的\n",
    "\n",
    "### 二、最小二乘、无偏性\n",
    "![jupyter](./pro1.jpg)\n",
    "    \n",
    "    无偏性：（参数的估计量）的（均值）等于（总体参数的真实值）\n",
    "    "
   ]
  },
  {
   "cell_type": "markdown",
   "metadata": {},
   "source": [
    "<font color=#0099ff size=6 face=\"黑体\">\n",
    "    <center>\n",
    "    回归模型的统计诊断\n",
    "    <center>\n",
    "</font>\n",
    "\n",
    "#### 回归模型通常用最小二乘法估，产生问题里面第一个都说了，对最小二乘估计量的影响是什么\n",
    "\n",
    "### 异方差（112）\n",
    "    1、异方差是针对模型随机误差项违背假设的说法；表现是：违背Var(ε)=θ^2\n",
    "    2、产生原因：P112\n",
    "    3、导致问题：P113（最小二乘估计量没有方差最小性）\n",
    "    4、诊断：P114\n",
    "    5、应对：P115\n",
    "        加权最小二乘\n",
    "        Box-Cox\n",
    "\n",
    "### 自相关（P120）\n",
    "    1、自相关也是针对模型的随机误差项违背假设；表现是：违背假设Cover(εi,εj)=0(i！=j) \n",
    "    2、产生原因：p120\n",
    "    3、导致问题：p121\n",
    "    （1估计量不在具有有效性优良性质【方差不在是最小的了】；\n",
    "    书上讲的还蛮不错的👍）\n",
    "    4、诊断方法：p122\n",
    "    （图示法比较直观；DW检验用到比较多）\n",
    "\n",
    "### 共线性（P130）\n",
    "    1、共线性针对模型的解释变量违背假设；表现是：设计举证X（P44）的列向量之间存在线性相关（理解成坐标轴不是正交的）\n",
    "    2、产生原因：p130\n",
    "    3、导致问题：P131\n",
    "    （应为设计矩阵X线性相关>……>对参数求导后的方程组无解>……>最小二乘法不能用了；\n",
    "    即使有解，解的统计性质也不再优秀了（方差不是最小的，不稳定）\n",
    "    ）\n",
    "    4、诊断方法：P133\n",
    "    (3.方差膨胀因子检验用的比较多)    "
   ]
  },
  {
   "cell_type": "code",
   "execution_count": null,
   "metadata": {},
   "outputs": [],
   "source": []
  },
  {
   "cell_type": "markdown",
   "metadata": {},
   "source": [
    "## "
   ]
  },
  {
   "cell_type": "code",
   "execution_count": 1,
   "metadata": {},
   "outputs": [
    {
     "data": {
      "text/plain": [
       "'D:\\\\jupyterProject\\\\数据库作业'"
      ]
     },
     "execution_count": 1,
     "metadata": {},
     "output_type": "execute_result"
    }
   ],
   "source": [
    "pwd"
   ]
  }
 ],
 "metadata": {
  "kernelspec": {
   "display_name": "Python 3",
   "language": "python",
   "name": "python3"
  },
  "language_info": {
   "codemirror_mode": {
    "name": "ipython",
    "version": 3
   },
   "file_extension": ".py",
   "mimetype": "text/x-python",
   "name": "python",
   "nbconvert_exporter": "python",
   "pygments_lexer": "ipython3",
   "version": "3.6.4"
  }
 },
 "nbformat": 4,
 "nbformat_minor": 2
}
